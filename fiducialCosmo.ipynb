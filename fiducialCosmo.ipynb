{
 "cells": [
  {
   "cell_type": "markdown",
   "id": "4a6070d6-10cb-4013-adc7-e650ff3269a0",
   "metadata": {},
   "source": [
    "## Imports"
   ]
  },
  {
   "cell_type": "code",
   "execution_count": 2,
   "id": "ff129315-71a0-48f2-aab6-b7cbcaef289b",
   "metadata": {},
   "outputs": [],
   "source": [
    "import GCR\n",
    "import GCRCatalogs as GCRCat\n",
    "import numpy as np\n",
    "import sys\n",
    "import matplotlib.pyplot as plt\n",
    "import pandas as pd\n",
    "from matplotlib.lines import Line2D\n",
    "import itertools\n",
    "from itertools import permutations \n",
    "from itertools import product \n",
    "import gwcosmo"
   ]
  },
  {
   "cell_type": "markdown",
   "id": "15575d1e-70ef-42e5-a775-2f641af71671",
   "metadata": {},
   "source": [
    "# Here, we want to import SkySim5000"
   ]
  },
  {
   "cell_type": "code",
   "execution_count": null,
   "id": "dfad4027-fdf6-4095-8e06-97438fca0dcf",
   "metadata": {},
   "outputs": [],
   "source": []
  }
 ],
 "metadata": {
  "kernelspec": {
   "display_name": "desc-python",
   "language": "python",
   "name": "desc-python"
  },
  "language_info": {
   "codemirror_mode": {
    "name": "ipython",
    "version": 3
   },
   "file_extension": ".py",
   "mimetype": "text/x-python",
   "name": "python",
   "nbconvert_exporter": "python",
   "pygments_lexer": "ipython3",
   "version": "3.10.13"
  }
 },
 "nbformat": 4,
 "nbformat_minor": 5
}
