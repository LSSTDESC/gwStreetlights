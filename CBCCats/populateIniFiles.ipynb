{
 "cells": [
  {
   "cell_type": "markdown",
   "id": "6bdfd9ce-73c2-4632-8899-5a135345db1e",
   "metadata": {},
   "source": [
    "# This notebook will populate the .ini files with the injection parameters"
   ]
  },
  {
   "cell_type": "code",
   "execution_count": 2,
   "id": "d55ba588-faf7-4f84-99ec-4a0a586d59a2",
   "metadata": {},
   "outputs": [],
   "source": [
    "import bilby as bb\n",
    "import numpy as np\n",
    "import gwcosmo as gwc\n",
    "import pandas as pd\n",
    "import GCR\n",
    "import GCRCatalogs as GCRCat\n",
    "import matplotlib.pyplot as plt\n",
    "import os\n",
    "from astropy.time import Time"
   ]
  },
  {
   "cell_type": "code",
   "execution_count": 6,
   "id": "6c9d4752-37a8-4fe7-b7bd-3e26ff77e048",
   "metadata": {},
   "outputs": [],
   "source": [
    "nsbhIniTemplatePath = \"/global/homes/s/seanmacb/DESC/DESC-GW/gwStreetlights/data/slurmJobs/prod/template_acceptance-walk_prod_NSBH_beforeModifications.ini\"\n",
    "bbhIniTemplatePath = \"/global/homes/s/seanmacb/DESC/DESC-GW/gwStreetlights/data/slurmJobs/prod/template_acceptance-walk_prod_BBH_beforeModifications.ini\""
   ]
  },
  {
   "cell_type": "markdown",
   "id": "f1616ee8-32ca-4ba4-bcb8-415fec4fdf2d",
   "metadata": {},
   "source": [
    "## The following should be appended to the existing template .ini files:\n",
    "- `label`: best to use the galaxyID_iterator based on some galaxies having multiple CBC's\n",
    "- `outdir`: `os.path.join(basePath,label)`\n",
    "- `injection_dict`: pulled directly from the entry in the CBC catalog. Note that the keys needed are 'mass_ratio', 'chirp_mass', 'luminosity_distance', 'dec','ra', 'theta_jn', 'psi', 'phase', 'a_1', 'a_2', 'tilt_1', 'tilt_2', 'phi_12', 'phi_jl', and 'geocent_time'. Note that geocent time should be set to zero"
   ]
  },
  {
   "cell_type": "code",
   "execution_count": 51,
   "id": "3d47e677-4c7d-4ea5-8c1a-c2561b2da00c",
   "metadata": {},
   "outputs": [],
   "source": [
    "basePathBBH = \"/pscratch/sd/s/seanmacb/BBH_GalaxyIDs\"\n",
    "basePathNSBH = \"/pscratch/sd/s/seanmacb/NSBH_GalaxyIDs\""
   ]
  },
  {
   "cell_type": "markdown",
   "id": "2699c320-3969-4fe3-9649-82d38add4aef",
   "metadata": {},
   "source": [
    "- Set `outdir` to basePath[NSBH.BBH]/batch_[0..11]/{galaxyID_iterator}\n",
    "- Set `label` to `galaxyID_iterator`\n",
    "- Another thing to look at - automatically determining the duration "
   ]
  },
  {
   "cell_type": "code",
   "execution_count": 110,
   "id": "bc9930ac-a5f8-40af-8f92-8223d5ae2852",
   "metadata": {},
   "outputs": [],
   "source": [
    "def append_to_template(template_path, new_lines, output_path):\n",
    "    \"\"\"\n",
    "    Read a template file, append lines, and write to a new file.\n",
    "\n",
    "    Parameters:\n",
    "    - template_path (str): Path to the original template file.\n",
    "    - new_lines (list of str): Lines to append to the file.\n",
    "    - output_path (str): Path to save the new file.\n",
    "    \"\"\"\n",
    "    # Read the original template\n",
    "    with open(template_path, 'r') as file:\n",
    "        content = file.read()\n",
    "\n",
    "    # Add the new lines\n",
    "    appended_content = content + '\\n' + '\\n'.join(new_lines) + '\\n'\n",
    "\n",
    "    # Write the new content to the output file\n",
    "    with open(output_path, 'w') as file:\n",
    "        file.write(appended_content)\n",
    "    return output_path\n",
    "\n",
    "def formatLines(galaxyRow,basePath,df):\n",
    "    \"\"\"\n",
    "    Read the galaxyRow, basePath, the input dataframe, and returns a list of formatted lines that match the .ini syntax\n",
    "\n",
    "    Parameters:\n",
    "    - galaxyRow (Pandas Series): The row entry of the CBC in question, taken directly from the mock CBC catalog\n",
    "    - basePath (str): The base path to the directory where the ini file will be saved\n",
    "    - df (Pandas dataframe): The dataframe of the mock CBC catalog\n",
    "    \"\"\"\n",
    "    keys = ['mass_ratio', 'chirp_mass', 'luminosity_distance', 'dec','ra', 'theta_jn', 'psi', 'phase', 'a_1', 'a_2', 'tilt_1', 'tilt_2', 'phi_12', 'phi_jl', 'geocent_time'] # Injection keys\n",
    "    dfKeys = ['mass_ratio', 'chirp_mass', 'luminosity_distance', 'mdec','mra', 'theta_jn', 'psi', 'phase', 'a_1', 'a_2', 'tilt_1', 'tilt_2', 'phi_12', 'phi_jl', 'geocent_time'] # Dataframe keys\n",
    "\n",
    "    # Format the first line, related to label\n",
    "    galaxyID = int(galaxyRow[\"galaxyID\"])\n",
    "\n",
    "    a = np.sort(df[df[\"galaxyID\"]==galaxyRow[\"galaxyID\"]].index)\n",
    "    iterator = np.argwhere(a==galaxyRow.name)[0][0]\n",
    "    \n",
    "    line1=\"label={}_{}\".format(galaxyID,iterator)\n",
    "\n",
    "    # Format the second line, related to the outdir\n",
    "    line2=\"outdir={}/{}_{}\".format(basePath,galaxyID,iterator)\n",
    "\n",
    "    # Format the third line, related to the injection dict\n",
    "    # indexedRow = galaxyRow[dfKeys]\n",
    "\n",
    "    injection_dict = {}\n",
    "\n",
    "    for k1,k2 in zip(keys,dfKeys):\n",
    "        try:\n",
    "            injection_dict[k1]=testRow[k2]\n",
    "        except:\n",
    "            injection_dict[k1]=0 # This is the geocent_time case=\n",
    "            \n",
    "    line3 = \"injection_dict={}\".format(injection_dict)\n",
    "\n",
    "    return line1,line2,line3\n",
    "\n",
    "\"\"\"\n",
    "Utilities to compute component masses from ratio and chirp mass\n",
    "While chirp!=m_1+m2, it's an approximation for component mass, using componentM ~ 2.5*chirp as the upper bound on total component mass\n",
    "\"\"\"\n",
    "def getMasses(ratio,chirp):\n",
    "    return getMassA(ratio,chirp),getMassB(ratio,chirp)\n",
    "def getMassA(ratio,chirp):\n",
    "    return chirp*ratio\n",
    "def getMassB(ratio,chirp):\n",
    "    return chirp-chirp*ratio"
   ]
  },
  {
   "cell_type": "code",
   "execution_count": 116,
   "id": "910bbe81-a6be-4deb-a949-c19cb9a9b097",
   "metadata": {
    "scrolled": true
   },
   "outputs": [
    {
     "data": {
      "text/plain": [
       "'/pscratch/sd/s/seanmacb/iniTest/10070200392465_0.ini'"
      ]
     },
     "execution_count": 116,
     "metadata": {},
     "output_type": "execute_result"
    }
   ],
   "source": [
    "outPath = \"/pscratch/sd/s/seanmacb/iniTest\"\n",
    "lines = formatLines(bbhDF.loc[0],outPath,bbhDF)\n",
    "outFile = lines[0].split(\"=\")[1]+\".ini\"\n",
    "append_to_template(bbhIniTemplatePath,lines,os.path.join(outPath,outFile))"
   ]
  },
  {
   "cell_type": "markdown",
   "id": "474dae8c-0c28-4a1b-93ad-8f698135dda8",
   "metadata": {},
   "source": [
    "## It works! Now it's just time to select the subsets of BBH and NSBH events that meet the following criteria\n",
    "\n",
    "- Uniform weighting, fiducial cosmology\n",
    "- Uniform weighting, skewed cosmology\n",
    "- Luminosity weighting, fiducial cosmology\n",
    "- SFR/Stellar mass weighting\n",
    "- GW host outside of galaxy catalog, GW localization volume inside of catalog footprint\n",
    "- GW host inside of galaxy catalog, GW localization volume inside of catalog footprint\n",
    "- GW host inside of galaxy catalog, GW localization volume partially outside of catalog footprint\n",
    "- Photo-z precision effect on cosmological results (2 scenarios)\n",
    "- Photometric completeness effects (2 scenarios)"
   ]
  },
  {
   "cell_type": "markdown",
   "id": "b261ec66-9325-4d2d-9bf0-476873cdb5af",
   "metadata": {},
   "source": [
    "# Galaxy Catalog conditions"
   ]
  },
  {
   "cell_type": "markdown",
   "id": "6e387ea4-7800-4d7d-b252-5ec8c1593340",
   "metadata": {},
   "source": [
    "### Fiducial cosmology, uniform, luminosity, or SFR/stellar mass weighting\n",
    "\n",
    "These three scenarios only require a difference in the gwCosmo analysis configuration, but can rely on the same CBC samples\n",
    "\n",
    "The galaxy catalog will stay the same\n",
    "\n",
    "The CBC dataset will stay the same\n",
    "\n",
    "This will be the reference dataset of CBC and galaxies\n",
    "\n",
    "The outcome of these three studies will be convergence towards the optimal analysis configuration"
   ]
  },
  {
   "cell_type": "code",
   "execution_count": null,
   "id": "3d27dd88-920e-4fac-8aa9-569932868104",
   "metadata": {},
   "outputs": [],
   "source": []
  },
  {
   "cell_type": "markdown",
   "id": "8e210ce5-2c5a-4033-980b-38823a27bc18",
   "metadata": {},
   "source": [
    "### Photo-z precision effect on cosmological results (2 scenarios)\n",
    "\n",
    "More precise, less precise\n",
    "\n",
    "This is on the **galaxy catalog** end, so there is nothing that needs to be changed for the GW injections\n",
    "\n",
    "The CBC dataset will be the reference\n",
    "\n",
    "The analysis configuration will be optimal for this scenario"
   ]
  },
  {
   "cell_type": "code",
   "execution_count": null,
   "id": "f6491f6e-06c7-4ae2-bffc-2b0105799c67",
   "metadata": {},
   "outputs": [],
   "source": []
  },
  {
   "cell_type": "markdown",
   "id": "f5a1ea02-b7ca-4e3c-bcdf-280730f5e3f2",
   "metadata": {},
   "source": [
    "### Photometric completeness effects (2 scenarios)\n",
    "\n",
    "Less complete, more complete (or even lesser complete?)\n",
    "\n",
    "This is on the **galaxy catalog** end, so there is nothing that needs to be changed for the GW injections\n",
    "\n",
    "The CBC dataset will be the reference\n",
    "\n",
    "The analysis configuration will be optimal for this scenario"
   ]
  },
  {
   "cell_type": "code",
   "execution_count": null,
   "id": "496370b4-52ae-41a4-8fa7-f81f7883d4bc",
   "metadata": {},
   "outputs": [],
   "source": []
  },
  {
   "cell_type": "markdown",
   "id": "56de8340-94a4-4633-9a0a-17bc6e441d33",
   "metadata": {},
   "source": [
    "# Skewed Cosmology"
   ]
  },
  {
   "cell_type": "markdown",
   "id": "196a2eef-aba7-4a71-834d-05bf1141862f",
   "metadata": {},
   "source": [
    "### Uniform weighting, skewed cosmology\n",
    "\n",
    "This scenario involves using a skewed value of $H_0$ for CBC injections. We will choose a value of 65, compared to the 71 used in skySim5000\n",
    "\n",
    "The CBC dataset will be skewed\n",
    "\n",
    "The Galaxy catalog will be the reference\n",
    "\n",
    "The analysis configuration will be optimal for this scenario"
   ]
  },
  {
   "cell_type": "code",
   "execution_count": null,
   "id": "a97df44a-2c2a-46d0-9ad7-efcb20c22b7a",
   "metadata": {},
   "outputs": [],
   "source": []
  },
  {
   "cell_type": "markdown",
   "id": "b0c96da6-d3cd-4a8e-81d1-2be2ef89b7d3",
   "metadata": {},
   "source": [
    "# GW selection effects"
   ]
  },
  {
   "cell_type": "markdown",
   "id": "76fdf012-4dfc-4f7b-afd4-8488907dffc3",
   "metadata": {},
   "source": [
    "### GW host inside galaxy catalog, GW localization volume inside of catalog footprint\n",
    "\n",
    "This is will be the optimal analysis configurations, reference datasets"
   ]
  },
  {
   "cell_type": "markdown",
   "id": "423c0dd3-a7bd-4685-9bbc-547e2f33af73",
   "metadata": {},
   "source": [
    "### GW host inside of galaxy catalog, GW localization volume outside of catalog footprint\n",
    "\n",
    "Have the host on the edge of the region cut of the effective galaxy catalog\n",
    "\n",
    "The analysis configuration will be optimal for this scenario\n",
    "\n",
    "The CBC dataset will be modified to support the region cut **OR** The galaxy catalog will be modified for the region cut. Whichever dataset is not modified, will be the reference."
   ]
  },
  {
   "cell_type": "code",
   "execution_count": null,
   "id": "166f9d01-c505-4de5-ab7c-ded972ecf97e",
   "metadata": {},
   "outputs": [],
   "source": []
  },
  {
   "cell_type": "markdown",
   "id": "269a1239-6ccd-4780-b455-dd9f1f7788ae",
   "metadata": {},
   "source": [
    "### GW host outside of galaxy catalog, GW localization volume inside of catalog footprint\n",
    "\n",
    "For this, it is best to use the full skySim5000 catalog, with an arbitrary region cut to reject the CBC host while still maintaining significant area of the injection in the galaxy footprint, or the host manually removed\n",
    "\n",
    "The CBC dataset will be modified to support the region cut **OR** The galaxy catalog will be modified for the region cut. Whichever dataset is not modified, will be the reference.\n",
    "\n",
    "The analysis configuration will be optimal for this scenario"
   ]
  },
  {
   "cell_type": "code",
   "execution_count": null,
   "id": "d8a7cacd-af47-4192-8e80-36885a938e52",
   "metadata": {},
   "outputs": [],
   "source": []
  }
 ],
 "metadata": {
  "kernelspec": {
   "display_name": "desc-python",
   "language": "python",
   "name": "desc-python"
  },
  "language_info": {
   "codemirror_mode": {
    "name": "ipython",
    "version": 3
   },
   "file_extension": ".py",
   "mimetype": "text/x-python",
   "name": "python",
   "nbconvert_exporter": "python",
   "pygments_lexer": "ipython3",
   "version": "3.10.13"
  }
 },
 "nbformat": 4,
 "nbformat_minor": 5
}
