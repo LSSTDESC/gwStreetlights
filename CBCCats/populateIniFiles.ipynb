{
 "cells": [
  {
   "cell_type": "markdown",
   "id": "6bdfd9ce-73c2-4632-8899-5a135345db1e",
   "metadata": {},
   "source": [
    "# This notebook will populate the .ini files with the injection parameters"
   ]
  },
  {
   "cell_type": "code",
   "execution_count": 2,
   "id": "d55ba588-faf7-4f84-99ec-4a0a586d59a2",
   "metadata": {},
   "outputs": [],
   "source": [
    "import bilby as bb\n",
    "import numpy as np\n",
    "import gwcosmo as gwc\n",
    "import pandas as pd\n",
    "import GCR\n",
    "import GCRCatalogs as GCRCat\n",
    "import matplotlib.pyplot as plt\n",
    "import os\n",
    "from astropy.time import Time"
   ]
  },
  {
   "cell_type": "code",
   "execution_count": 6,
   "id": "6c9d4752-37a8-4fe7-b7bd-3e26ff77e048",
   "metadata": {},
   "outputs": [],
   "source": [
    "nsbhIniTemplatePath = \"/global/homes/s/seanmacb/DESC/DESC-GW/gwStreetlights/data/slurmJobs/prod/template_acceptance-walk_prod_NSBH_beforeModifications.ini\"\n",
    "bbhIniTemplatePath = \"/global/homes/s/seanmacb/DESC/DESC-GW/gwStreetlights/data/slurmJobs/prod/template_acceptance-walk_prod_BBH_beforeModifications.ini\""
   ]
  },
  {
   "cell_type": "markdown",
   "id": "f1616ee8-32ca-4ba4-bcb8-415fec4fdf2d",
   "metadata": {},
   "source": [
    "## The following should be appended to the existing template .ini files:\n",
    "- `label`: best to use the galaxyID_iterator based on some galaxies having multiple CBC's\n",
    "- `outdir`: `os.path.join(basePath,label)`\n",
    "- `injection_dict`: pulled directly from the entry in the CBC catalog. Note that the keys needed are 'mass_ratio', 'chirp_mass', 'luminosity_distance', 'dec','ra', 'theta_jn', 'psi', 'phase', 'a_1', 'a_2', 'tilt_1', 'tilt_2', 'phi_12', 'phi_jl', and 'geocent_time'. Note that geocent time should be set to zero"
   ]
  },
  {
   "cell_type": "code",
   "execution_count": 51,
   "id": "3d47e677-4c7d-4ea5-8c1a-c2561b2da00c",
   "metadata": {},
   "outputs": [],
   "source": [
    "basePathBBH = \"/pscratch/sd/s/seanmacb/BBH_GalaxyIDs\"\n",
    "basePathNSBH = \"/pscratch/sd/s/seanmacb/NSBH_GalaxyIDs\""
   ]
  },
  {
   "cell_type": "markdown",
   "id": "2699c320-3969-4fe3-9649-82d38add4aef",
   "metadata": {},
   "source": [
    "- Set `outdir` to basePath[NSBH.BBH]/batch_[0..11]/{galaxyID_iterator}\n",
    "- Set `label` to `galaxyID_iterator`"
   ]
  },
  {
   "cell_type": "code",
   "execution_count": 88,
   "id": "bc9930ac-a5f8-40af-8f92-8223d5ae2852",
   "metadata": {},
   "outputs": [],
   "source": [
    "def append_to_template(template_path, new_lines, output_path):\n",
    "    \"\"\"\n",
    "    Read a template file, append lines, and write to a new file.\n",
    "\n",
    "    Parameters:\n",
    "    - template_path (str): Path to the original template file.\n",
    "    - new_lines (list of str): Lines to append to the file.\n",
    "    - output_path (str): Path to save the new file.\n",
    "    \"\"\"\n",
    "    # Read the original template\n",
    "    with open(template_path, 'r') as file:\n",
    "        content = file.read()\n",
    "\n",
    "    # Add the new lines\n",
    "    appended_content = content + '\\n' + '\\n'.join(new_lines) + '\\n'\n",
    "\n",
    "    # Write the new content to the output file\n",
    "    with open(output_path, 'w') as file:\n",
    "        file.write(appended_content)\n",
    "    return output_path\n",
    "\n",
    "def formatLines(galaxyRow,basePath,df):\n",
    "    \"\"\"\n",
    "    Read the galaxyRow, basePath, the input dataframe, and returns a list of formatted lines that match the .ini syntax\n",
    "\n",
    "    Parameters:\n",
    "    - galaxyRow (Pandas Series): The row entry of the CBC in question, taken directly from the mock CBC catalog\n",
    "    - basePath (str): The base path to the directory where the ini file will be saved\n",
    "    - df (Pandas dataframe): The dataframe of the mock CBC catalog\n",
    "    \"\"\"\n",
    "    keys = ['mass_ratio', 'chirp_mass', 'luminosity_distance', 'dec','ra', 'theta_jn', 'psi', 'phase', 'a_1', 'a_2', 'tilt_1', 'tilt_2', 'phi_12', 'phi_jl', 'geocent_time'] # Injection keys\n",
    "    dfKeys = ['mass_ratio', 'chirp_mass', 'luminosity_distance', 'mdec','mra', 'theta_jn', 'psi', 'phase', 'a_1', 'a_2', 'tilt_1', 'tilt_2', 'phi_12', 'phi_jl', 'geocent_time'] # Dataframe keys\n",
    "\n",
    "    # Format the first line, related to label\n",
    "    galaxyID = int(galaxyRow[\"galaxyID\"])\n",
    "\n",
    "    a = np.sort(df[df[\"galaxyID\"]==galaxyRow[\"galaxyID\"]].index)\n",
    "    iterator = np.argwhere(a==galaxyRow.name)[0][0]\n",
    "    \n",
    "    line1=\"label={}_{}\".format(galaxyID,iterator)\n",
    "\n",
    "    # Format the second line, related to the outdir\n",
    "    line2=\"outdir={}/{}_{}\".format(basePath,galaxyID,iterator)\n",
    "\n",
    "    # Format the third line, related to the injection dict\n",
    "    # indexedRow = galaxyRow[dfKeys]\n",
    "\n",
    "    injection_dict = {}\n",
    "\n",
    "    for k1,k2 in zip(keys,dfKeys):\n",
    "        try:\n",
    "            injection_dict[k1]=testRow[k2]\n",
    "        except:\n",
    "            injection_dict[k1]=0\n",
    "\n",
    "    line3 = \"injection_dict={}\".format(injection_dict)\n",
    "\n",
    "    return line1,line2,line3"
   ]
  },
  {
   "cell_type": "code",
   "execution_count": null,
   "id": "81d9e1d9-09af-4595-8c9e-18484892fda2",
   "metadata": {},
   "outputs": [],
   "source": []
  }
 ],
 "metadata": {
  "kernelspec": {
   "display_name": "desc-python",
   "language": "python",
   "name": "desc-python"
  },
  "language_info": {
   "codemirror_mode": {
    "name": "ipython",
    "version": 3
   },
   "file_extension": ".py",
   "mimetype": "text/x-python",
   "name": "python",
   "nbconvert_exporter": "python",
   "pygments_lexer": "ipython3",
   "version": "3.10.13"
  }
 },
 "nbformat": 4,
 "nbformat_minor": 5
}
