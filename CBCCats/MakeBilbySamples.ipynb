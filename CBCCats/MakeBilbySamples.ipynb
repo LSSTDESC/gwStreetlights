{
 "cells": [
  {
   "cell_type": "markdown",
   "id": "5ac7f071-830c-4bc8-ad76-70daf160a17f",
   "metadata": {},
   "source": [
    "# Make bilby samples from a list of galaxy hosts\n",
    "\n",
    "This is a script to make bilby samples from a list of galaxy hosts. \n",
    "\n",
    "- The list of galaxy hosts is provided in a csv\n",
    "- Galaxies are ingested, and the following quantities are propagated to the bilby sample\n",
    "    - ra\n",
    "    - dec\n",
    "    - dL prior needs to be updated for the SkySim cosmology"
   ]
  },
  {
   "cell_type": "code",
   "execution_count": 1,
   "id": "3d57763d-c8ff-4617-ac87-09e0cc4d45af",
   "metadata": {},
   "outputs": [
    {
     "name": "stderr",
     "output_type": "stream",
     "text": [
      "/pscratch/sd/s/seanmacb/gwCosmoDesc/lib/python3.10/site-packages/gwcosmo/utilities/cosmology.py:20: UserWarning: Wswiglal-redir-stdio:\n",
      "\n",
      "SWIGLAL standard output/error redirection is enabled in IPython.\n",
      "This may lead to performance penalties. To disable locally, use:\n",
      "\n",
      "with lal.no_swig_redirect_standard_output_error():\n",
      "    ...\n",
      "\n",
      "To disable globally, use:\n",
      "\n",
      "lal.swig_redirect_standard_output_error(False)\n",
      "\n",
      "Note however that this will likely lead to error messages from\n",
      "LAL functions being either misdirected or lost when called from\n",
      "Jupyter notebooks.\n",
      "\n",
      "To suppress this warning, use:\n",
      "\n",
      "import warnings\n",
      "warnings.filterwarnings(\"ignore\", \"Wswiglal-redir-stdio\")\n",
      "import lal\n",
      "\n",
      "  import lal\n"
     ]
    }
   ],
   "source": [
    "import bilby as bb\n",
    "import numpy as np\n",
    "import gwcosmo as gwc\n",
    "import pandas as pd\n",
    "import GCR\n",
    "import GCRCatalogs as GCRCat\n",
    "import matplotlib.pyplot as plt\n",
    "import os\n",
    "from astropy.time import Time"
   ]
  },
  {
   "cell_type": "code",
   "execution_count": 2,
   "id": "894d6caa-f1c1-4430-9d5f-4f10f87173bd",
   "metadata": {},
   "outputs": [],
   "source": [
    "cat_name2 = \"skysim5000_v1.2\"\n",
    "skysimCat = GCRCat.load_catalog(cat_name2) # Load the skysim catalog\n",
    "hostDF = pd.read_csv(\"/global/homes/s/seanmacb/DESC/DESC-GW/gwStreetlights/data/mergers-w=Lum,n=1e7,FromSkySim50.csv\") # Load the CBC catalog"
   ]
  },
  {
   "cell_type": "code",
   "execution_count": 3,
   "id": "c2ff13a7-5cba-44af-96c6-e44fa1415570",
   "metadata": {},
   "outputs": [
    {
     "name": "stderr",
     "output_type": "stream",
     "text": [
      "13:06 bilby INFO    : No prior given, using default BBH priors in /pscratch/sd/s/seanmacb/gwCosmoDesc/lib/python3.10/site-packages/bilby/gw/prior_files/precessing_spins_bbh.prior.\n"
     ]
    }
   ],
   "source": [
    "prior = bb.gw.prior.BBHPriorDict(aligned_spin=False) # The bbh prior, spins misaligned\n",
    "prior[\"luminosity_distance\"] = bb.gw.prior.UniformSourceFrame(0,5000,cosmology=skysimCat.cosmology,name='luminosity_distance', latex_label='$d_L$', unit='Mpc', boundary=None) # Update the luminosity distance prior, based on "
   ]
  },
  {
   "cell_type": "code",
   "execution_count": 4,
   "id": "f30ebd3f-c3ae-41f3-802b-230e4f237fe5",
   "metadata": {},
   "outputs": [
    {
     "data": {
      "text/plain": [
       "{'mass_ratio': 0.2197770643071324,\n",
       " 'chirp_mass': 28.194144030246054,\n",
       " 'luminosity_distance': 2513.562546230264,\n",
       " 'dec': 0.21090874217923028,\n",
       " 'ra': 1.5356516678050518,\n",
       " 'theta_jn': 0.9551834466207759,\n",
       " 'psi': 0.21308699369978906,\n",
       " 'phase': 3.0195503477138432,\n",
       " 'a_1': 0.8644170745950256,\n",
       " 'a_2': 0.28623189766616786,\n",
       " 'tilt_1': 1.6804615961417257,\n",
       " 'tilt_2': 0.8626706137756249,\n",
       " 'phi_12': 5.78585803356507,\n",
       " 'phi_jl': 5.351892858379443}"
      ]
     },
     "execution_count": 4,
     "metadata": {},
     "output_type": "execute_result"
    }
   ],
   "source": [
    "prior.sample()"
   ]
  },
  {
   "cell_type": "code",
   "execution_count": 5,
   "id": "7180e7b3-3735-49b6-9e2c-243fef71aa92",
   "metadata": {},
   "outputs": [
    {
     "data": {
      "text/latex": [
       "$23772.324 \\; \\mathrm{Mpc}$"
      ],
      "text/plain": [
       "<Quantity 23772.32428394 Mpc>"
      ]
     },
     "execution_count": 5,
     "metadata": {},
     "output_type": "execute_result"
    }
   ],
   "source": [
    "skysimCat.cosmology.luminosity_distance(hostDF.loc[0][\"redshiftHubble\"])"
   ]
  },
  {
   "cell_type": "markdown",
   "id": "7ef1939f-8682-417c-8275-23b0c46b5c6d",
   "metadata": {},
   "source": [
    "## Let's do the sampling this way\n",
    "- For each entry in the CBC catalog\n",
    "    - take a sample of the bilby prior, most parameters will be added\n",
    "    - For ra/dec, use mra and mdec from the cbc catalog\n",
    "    - For dL, just compute directly based on the cosmology of SkySim\n",
    "- Add to the dataframe\n",
    "- Save the dataframe to disk"
   ]
  },
  {
   "cell_type": "code",
   "execution_count": 6,
   "id": "a2ef02f7-013a-446b-ad8b-772fb6a8953f",
   "metadata": {},
   "outputs": [
    {
     "data": {
      "text/plain": [
       "'ra'"
      ]
     },
     "execution_count": 6,
     "metadata": {},
     "output_type": "execute_result"
    }
   ],
   "source": [
    "keys = list(prior.sample())\n",
    "keys.pop(3)\n",
    "keys.pop(3)"
   ]
  },
  {
   "cell_type": "code",
   "execution_count": null,
   "id": "d6f9e3fa-c24b-4769-82b4-69855fc7078d",
   "metadata": {
    "scrolled": true
   },
   "outputs": [
    {
     "name": "stdout",
     "output_type": "stream",
     "text": [
      "0% finished\n"
     ]
    }
   ],
   "source": [
    "injDict = {}\n",
    "for k in keys:\n",
    "    injDict[k] = []\n",
    "\n",
    "cnt = 0\n",
    "for ids,row in hostDF.iterrows():\n",
    "    thisSample = prior.sample()\n",
    "    for k in keys:\n",
    "        if k!=\"luminosity_distance\":\n",
    "            injDict[k].append(thisSample[k])\n",
    "    injDict[\"luminosity_distance\"].append(float(str(skysimCat.cosmology.luminosity_distance(row[\"redshiftHubble\"])).split(\" \")[0]))\n",
    "    if cnt % 100000 == 0:\n",
    "        print(\"{}% finished\".format(cnt//100000))\n",
    "    cnt+=1"
   ]
  },
  {
   "cell_type": "code",
   "execution_count": null,
   "id": "9a5df54f-4ec0-4022-b5c4-ea7209481f74",
   "metadata": {},
   "outputs": [],
   "source": [
    "# for v in injDict.values():\n",
    "#     print(np.shape(v))"
   ]
  },
  {
   "cell_type": "code",
   "execution_count": null,
   "id": "03d52ae3-b1b5-40a8-bdc5-84e9361af5f3",
   "metadata": {},
   "outputs": [],
   "source": [
    "for k in injDict.keys():\n",
    "    hostDF[k] = injDict[k]"
   ]
  },
  {
   "cell_type": "code",
   "execution_count": null,
   "id": "2b887221-c60b-4b50-92cc-5cd0a9a475e3",
   "metadata": {},
   "outputs": [],
   "source": [
    "float(str(skysimCat.cosmology.luminosity_distance(row[\"redshiftHubble\"])).split(\" \")[0])"
   ]
  },
  {
   "cell_type": "code",
   "execution_count": null,
   "id": "93620b69-2217-45a1-bf70-fbe3b3b124c3",
   "metadata": {},
   "outputs": [],
   "source": []
  },
  {
   "cell_type": "markdown",
   "id": "80958379-3476-4367-9826-f4e056006504",
   "metadata": {},
   "source": [
    "## Save this"
   ]
  },
  {
   "cell_type": "code",
   "execution_count": null,
   "id": "3a915a3f-0bd0-4090-a7c2-f2bdffa7d214",
   "metadata": {},
   "outputs": [],
   "source": [
    "saveColumns = hostDF.columns.values[1:] # This is because of the extra column - check this always!!!"
   ]
  },
  {
   "cell_type": "code",
   "execution_count": null,
   "id": "de4e410e-f3c8-43a8-8c7b-c64e55493b39",
   "metadata": {},
   "outputs": [],
   "source": [
    "dataDir = \"/global/homes/s/seanmacb/DESC/DESC-GW/gwStreetlights/data\"\n",
    "hostDF.to_csv(os.path.join(dataDir,\"mergers-w=Lum,n=1e7,FromSkySim50_withBilby.csv\"),columns=saveColumns,index=False)"
   ]
  },
  {
   "cell_type": "markdown",
   "id": "b9614a18-e98d-45be-873f-26c481618bed",
   "metadata": {},
   "source": [
    "## OOPS! Add a column to denote if the CBC has been sampled before"
   ]
  },
  {
   "cell_type": "code",
   "execution_count": null,
   "id": "472addca-e64c-4161-b44b-f498d91b3822",
   "metadata": {},
   "outputs": [],
   "source": [
    "hostDF = pd.read_csv(os.path.join(dataDir,\"mergers-w=Lum,n=1e7,FromSkySim50_withBilby.csv\"))"
   ]
  },
  {
   "cell_type": "code",
   "execution_count": null,
   "id": "fed2cb38-d8b0-4802-b196-6a93707266b0",
   "metadata": {},
   "outputs": [],
   "source": [
    "hostDF[\"sampled\"] = False"
   ]
  },
  {
   "cell_type": "code",
   "execution_count": null,
   "id": "9491b37d-267a-41ef-92e8-e2ac7accae1e",
   "metadata": {},
   "outputs": [],
   "source": [
    "hostDF.to_csv(os.path.join(dataDir,\"mergers-w=Lum,n=1e7,FromSkySim50_withBilby.csv\"),columns=saveColumns,index=False)"
   ]
  },
  {
   "cell_type": "code",
   "execution_count": null,
   "id": "29225ae8-eab2-44e6-919f-c80cced5c9a8",
   "metadata": {},
   "outputs": [],
   "source": []
  }
 ],
 "metadata": {
  "kernelspec": {
   "display_name": "desc-python",
   "language": "python",
   "name": "desc-python"
  },
  "language_info": {
   "codemirror_mode": {
    "name": "ipython",
    "version": 3
   },
   "file_extension": ".py",
   "mimetype": "text/x-python",
   "name": "python",
   "nbconvert_exporter": "python",
   "pygments_lexer": "ipython3",
   "version": "3.10.13"
  }
 },
 "nbformat": 4,
 "nbformat_minor": 5
}
