{
 "cells": [
  {
   "cell_type": "markdown",
   "id": "5ac7f071-830c-4bc8-ad76-70daf160a17f",
   "metadata": {},
   "source": [
    "# Make bilby samples from a list of galaxy hosts\n",
    "\n",
    "This is a script to make bilby samples from a list of galaxy hosts. \n",
    "\n",
    "- The list of galaxy hosts is provided in a csv\n",
    "- Galaxies are ingested, and the following quantities are propagated to the bilby sample\n",
    "    - ra\n",
    "    - dec\n",
    "    - dL prior needs to be updated for the SkySim cosmology"
   ]
  },
  {
   "cell_type": "code",
   "execution_count": 1,
   "id": "3d57763d-c8ff-4617-ac87-09e0cc4d45af",
   "metadata": {},
   "outputs": [
    {
     "ename": "ModuleNotFoundError",
     "evalue": "No module named 'bilby'",
     "output_type": "error",
     "traceback": [
      "\u001b[31m---------------------------------------------------------------------------\u001b[39m",
      "\u001b[31mModuleNotFoundError\u001b[39m                       Traceback (most recent call last)",
      "\u001b[36mCell\u001b[39m\u001b[36m \u001b[39m\u001b[32mIn[1]\u001b[39m\u001b[32m, line 1\u001b[39m\n\u001b[32m----> \u001b[39m\u001b[32m1\u001b[39m \u001b[38;5;28;01mimport\u001b[39;00m\u001b[38;5;250m \u001b[39m\u001b[34;01mbilby\u001b[39;00m\u001b[38;5;250m \u001b[39m\u001b[38;5;28;01mas\u001b[39;00m\u001b[38;5;250m \u001b[39m\u001b[34;01mbb\u001b[39;00m\n\u001b[32m      2\u001b[39m \u001b[38;5;28;01mimport\u001b[39;00m\u001b[38;5;250m \u001b[39m\u001b[34;01mnumpy\u001b[39;00m\u001b[38;5;250m \u001b[39m\u001b[38;5;28;01mas\u001b[39;00m\u001b[38;5;250m \u001b[39m\u001b[34;01mnp\u001b[39;00m\n\u001b[32m      3\u001b[39m \u001b[38;5;28;01mimport\u001b[39;00m\u001b[38;5;250m \u001b[39m\u001b[34;01mgwcosmo\u001b[39;00m\u001b[38;5;250m \u001b[39m\u001b[38;5;28;01mas\u001b[39;00m\u001b[38;5;250m \u001b[39m\u001b[34;01mgwc\u001b[39;00m\n",
      "\u001b[31mModuleNotFoundError\u001b[39m: No module named 'bilby'"
     ]
    }
   ],
   "source": [
    "import bilby as bb\n",
    "import numpy as np\n",
    "import gwcosmo as gwc\n",
    "import pandas as pd\n",
    "import GCR\n",
    "import GCRCatalogs as GCRCat\n",
    "import matplotlib.pyplot as plt\n",
    "import os\n",
    "from astropy.time import Time"
   ]
  },
  {
   "cell_type": "code",
   "execution_count": 8,
   "id": "894d6caa-f1c1-4430-9d5f-4f10f87173bd",
   "metadata": {},
   "outputs": [],
   "source": [
    "cat_name2 = \"skysim5000_v1.2\"\n",
    "skysimCat = GCRCat.load_catalog(cat_name2) # Load the skysim catalog\n",
    "hostDF = pd.read_csv(\"/global/u1/s/seanmacb/DESC/DESC-GW/gwStreetlights/data/mockCBCCatalogs/mergers-w=Lum,n=1e7,FromSkySim50.csv\") # Load the CBC catalog"
   ]
  },
  {
   "cell_type": "code",
   "execution_count": 9,
   "id": "c2ff13a7-5cba-44af-96c6-e44fa1415570",
   "metadata": {},
   "outputs": [
    {
     "name": "stderr",
     "output_type": "stream",
     "text": [
      "10:04 bilby INFO    : Using aligned spin prior\n",
      "10:04 bilby INFO    : No prior given, using default BBH priors in /pscratch/sd/s/seanmacb/gwCosmoDesc/lib/python3.10/site-packages/bilby/gw/prior_files/aligned_spins_bbh.prior.\n"
     ]
    }
   ],
   "source": [
    "prior = bb.gw.prior.BBHPriorDict(aligned_spin=True) # The bbh prior, spins misaligned\n",
    "prior[\"luminosity_distance\"] = bb.gw.prior.UniformSourceFrame(0,18000,cosmology=skysimCat.cosmology,name='luminosity_distance', latex_label='$d_L$', unit='Mpc', boundary=None) # Update the luminosity distance prior, based on "
   ]
  },
  {
   "cell_type": "code",
   "execution_count": 10,
   "id": "d0793d8c-d455-4a34-88fa-18ffa29c789c",
   "metadata": {},
   "outputs": [
    {
     "data": {
      "text/plain": [
       "{'mass_1': Constraint(minimum=5, maximum=100, name='mass_1', latex_label='$m_1$', unit=None),\n",
       " 'mass_2': Constraint(minimum=5, maximum=100, name='mass_2', latex_label='$m_2$', unit=None),\n",
       " 'mass_ratio': bilby.gw.prior.UniformInComponentsMassRatio(minimum=0.125, maximum=1, name='mass_ratio', latex_label='$q$', unit=None, boundary=None, equal_mass=False),\n",
       " 'chirp_mass': bilby.gw.prior.UniformInComponentsChirpMass(minimum=25, maximum=100, name='chirp_mass', latex_label='$\\\\mathcal{M}$', unit=None, boundary=None),\n",
       " 'luminosity_distance': bilby.gw.prior.UniformSourceFrame(minimum=0.0, maximum=18000.0, cosmology=FlatLambdaCDM(name=None, H0=<Quantity 71. km / (Mpc s)>, Om0=0.2648, Tcmb0=<Quantity 0. K>, Neff=3.04, m_nu=None, Ob0=0.0448), name='luminosity_distance', latex_label='$d_L$', unit='Mpc', boundary=None),\n",
       " 'dec': Cosine(minimum=-1.5707963267948966, maximum=1.5707963267948966, name='dec', latex_label='$\\\\mathrm{DEC}$', unit=None, boundary=None),\n",
       " 'ra': Uniform(minimum=0, maximum=6.283185307179586, name='ra', latex_label='$\\\\mathrm{RA}$', unit=None, boundary='periodic'),\n",
       " 'theta_jn': Sine(minimum=0, maximum=3.141592653589793, name='theta_jn', latex_label='$\\\\theta_{JN}$', unit=None, boundary=None),\n",
       " 'psi': Uniform(minimum=0, maximum=3.141592653589793, name='psi', latex_label='$\\\\psi$', unit=None, boundary='periodic'),\n",
       " 'phase': Uniform(minimum=0, maximum=6.283185307179586, name='phase', latex_label='$\\\\phi$', unit=None, boundary='periodic'),\n",
       " 'chi_1': bilby.gw.prior.AlignedSpin(a_prior=Uniform(minimum=0, maximum=0.99, name=None, latex_label=None, unit=None, boundary=None), z_prior=Uniform(minimum=-1, maximum=1, name=None, latex_label=None, unit=None, boundary=None), name='chi_1', latex_label='$\\\\chi_1$', unit=None, boundary=None, minimum=-0.99, maximum=0.99),\n",
       " 'chi_2': bilby.gw.prior.AlignedSpin(a_prior=Uniform(minimum=0, maximum=0.99, name=None, latex_label=None, unit=None, boundary=None), z_prior=Uniform(minimum=-1, maximum=1, name=None, latex_label=None, unit=None, boundary=None), name='chi_2', latex_label='$\\\\chi_2$', unit=None, boundary=None, minimum=-0.99, maximum=0.99)}"
      ]
     },
     "execution_count": 10,
     "metadata": {},
     "output_type": "execute_result"
    }
   ],
   "source": [
    "prior"
   ]
  },
  {
   "cell_type": "code",
   "execution_count": 11,
   "id": "f30ebd3f-c3ae-41f3-802b-230e4f237fe5",
   "metadata": {},
   "outputs": [
    {
     "name": "stderr",
     "output_type": "stream",
     "text": [
      "12:33 bilby INFO    : Using aligned spin prior\n",
      "12:33 bilby INFO    : No prior given, using default BBH priors in /pscratch/sd/s/seanmacb/gwCosmoDesc/lib/python3.10/site-packages/bilby/gw/prior_files/aligned_spins_bbh.prior.\n"
     ]
    },
    {
     "data": {
      "text/plain": [
       "{'mass_1': Constraint(minimum=5, maximum=100, name='mass_1', latex_label='$m_1$', unit=None),\n",
       " 'mass_2': Constraint(minimum=5, maximum=100, name='mass_2', latex_label='$m_2$', unit=None),\n",
       " 'mass_ratio': bilby.gw.prior.UniformInComponentsMassRatio(minimum=0.125, maximum=1, name='mass_ratio', latex_label='$q$', unit=None, boundary=None, equal_mass=False),\n",
       " 'chirp_mass': bilby.gw.prior.UniformInComponentsChirpMass(minimum=25, maximum=100, name='chirp_mass', latex_label='$\\\\mathcal{M}$', unit=None, boundary=None),\n",
       " 'luminosity_distance': bilby.gw.prior.UniformSourceFrame(minimum=100.0, maximum=5000.0, cosmology='Planck15', name='luminosity_distance', latex_label='$d_L$', unit='Mpc', boundary=None),\n",
       " 'dec': Cosine(minimum=-1.5707963267948966, maximum=1.5707963267948966, name='dec', latex_label='$\\\\mathrm{DEC}$', unit=None, boundary=None),\n",
       " 'ra': Uniform(minimum=0, maximum=6.283185307179586, name='ra', latex_label='$\\\\mathrm{RA}$', unit=None, boundary='periodic'),\n",
       " 'theta_jn': Sine(minimum=0, maximum=3.141592653589793, name='theta_jn', latex_label='$\\\\theta_{JN}$', unit=None, boundary=None),\n",
       " 'psi': Uniform(minimum=0, maximum=3.141592653589793, name='psi', latex_label='$\\\\psi$', unit=None, boundary='periodic'),\n",
       " 'phase': Uniform(minimum=0, maximum=6.283185307179586, name='phase', latex_label='$\\\\phi$', unit=None, boundary='periodic'),\n",
       " 'chi_1': bilby.gw.prior.AlignedSpin(a_prior=Uniform(minimum=0, maximum=0.99, name=None, latex_label=None, unit=None, boundary=None), z_prior=Uniform(minimum=-1, maximum=1, name=None, latex_label=None, unit=None, boundary=None), name='chi_1', latex_label='$\\\\chi_1$', unit=None, boundary=None, minimum=-0.99, maximum=0.99),\n",
       " 'chi_2': bilby.gw.prior.AlignedSpin(a_prior=Uniform(minimum=0, maximum=0.99, name=None, latex_label=None, unit=None, boundary=None), z_prior=Uniform(minimum=-1, maximum=1, name=None, latex_label=None, unit=None, boundary=None), name='chi_2', latex_label='$\\\\chi_2$', unit=None, boundary=None, minimum=-0.99, maximum=0.99)}"
      ]
     },
     "execution_count": 11,
     "metadata": {},
     "output_type": "execute_result"
    }
   ],
   "source": [
    "bb.gw.prior.BBHPriorDict(aligned_spin=True)"
   ]
  },
  {
   "cell_type": "code",
   "execution_count": 12,
   "id": "56d330f6-efa0-4a93-8597-ab768957e77f",
   "metadata": {},
   "outputs": [
    {
     "name": "stderr",
     "output_type": "stream",
     "text": [
      "12:33 bilby INFO    : No prior given, using default BBH priors in /pscratch/sd/s/seanmacb/gwCosmoDesc/lib/python3.10/site-packages/bilby/gw/prior_files/precessing_spins_bbh.prior.\n"
     ]
    },
    {
     "data": {
      "text/plain": [
       "{'mass_1': Constraint(minimum=5, maximum=100, name='mass_1', latex_label='$m_1$', unit=None),\n",
       " 'mass_2': Constraint(minimum=5, maximum=100, name='mass_2', latex_label='$m_2$', unit=None),\n",
       " 'mass_ratio': bilby.gw.prior.UniformInComponentsMassRatio(minimum=0.125, maximum=1, name='mass_ratio', latex_label='$q$', unit=None, boundary=None, equal_mass=False),\n",
       " 'chirp_mass': bilby.gw.prior.UniformInComponentsChirpMass(minimum=25, maximum=100, name='chirp_mass', latex_label='$\\\\mathcal{M}$', unit=None, boundary=None),\n",
       " 'luminosity_distance': bilby.gw.prior.UniformSourceFrame(minimum=100.0, maximum=5000.0, cosmology='Planck15', name='luminosity_distance', latex_label='$d_L$', unit='Mpc', boundary=None),\n",
       " 'dec': Cosine(minimum=-1.5707963267948966, maximum=1.5707963267948966, name='dec', latex_label='$\\\\mathrm{DEC}$', unit=None, boundary=None),\n",
       " 'ra': Uniform(minimum=0, maximum=6.283185307179586, name='ra', latex_label='$\\\\mathrm{RA}$', unit=None, boundary='periodic'),\n",
       " 'theta_jn': Sine(minimum=0, maximum=3.141592653589793, name='theta_jn', latex_label='$\\\\theta_{JN}$', unit=None, boundary=None),\n",
       " 'psi': Uniform(minimum=0, maximum=3.141592653589793, name='psi', latex_label='$\\\\psi$', unit=None, boundary='periodic'),\n",
       " 'phase': Uniform(minimum=0, maximum=6.283185307179586, name='phase', latex_label='$\\\\phi$', unit=None, boundary='periodic'),\n",
       " 'a_1': Uniform(minimum=0, maximum=0.99, name='a_1', latex_label='$a_1$', unit=None, boundary=None),\n",
       " 'a_2': Uniform(minimum=0, maximum=0.99, name='a_2', latex_label='$a_2$', unit=None, boundary=None),\n",
       " 'tilt_1': Sine(minimum=0, maximum=3.141592653589793, name='tilt_1', latex_label='$\\\\theta_1$', unit=None, boundary=None),\n",
       " 'tilt_2': Sine(minimum=0, maximum=3.141592653589793, name='tilt_2', latex_label='$\\\\theta_2$', unit=None, boundary=None),\n",
       " 'phi_12': Uniform(minimum=0, maximum=6.283185307179586, name='phi_12', latex_label='$\\\\Delta\\\\phi$', unit=None, boundary='periodic'),\n",
       " 'phi_jl': Uniform(minimum=0, maximum=6.283185307179586, name='phi_jl', latex_label='$\\\\phi_{JL}$', unit=None, boundary='periodic')}"
      ]
     },
     "execution_count": 12,
     "metadata": {},
     "output_type": "execute_result"
    }
   ],
   "source": [
    "bb.gw.prior.BBHPriorDict(aligned_spin=False)"
   ]
  },
  {
   "cell_type": "code",
   "execution_count": 6,
   "id": "7180e7b3-3735-49b6-9e2c-243fef71aa92",
   "metadata": {},
   "outputs": [
    {
     "data": {
      "text/latex": [
       "$23772.324 \\; \\mathrm{Mpc}$"
      ],
      "text/plain": [
       "<Quantity 23772.32428394 Mpc>"
      ]
     },
     "execution_count": 6,
     "metadata": {},
     "output_type": "execute_result"
    }
   ],
   "source": [
    "skysimCat.cosmology.luminosity_distance(hostDF.loc[0][\"redshiftHubble\"])"
   ]
  },
  {
   "cell_type": "markdown",
   "id": "7ef1939f-8682-417c-8275-23b0c46b5c6d",
   "metadata": {},
   "source": [
    "## Let's do the sampling this way\n",
    "- For each entry in the CBC catalog\n",
    "    - take a sample of the bilby prior, most parameters will be added\n",
    "    - For ra/dec, use mra and mdec from the cbc catalog\n",
    "    - For dL, just compute directly based on the cosmology of SkySim\n",
    "- Add to the dataframe\n",
    "- Save the dataframe to disk"
   ]
  },
  {
   "cell_type": "code",
   "execution_count": 6,
   "id": "a2ef02f7-013a-446b-ad8b-772fb6a8953f",
   "metadata": {},
   "outputs": [
    {
     "data": {
      "text/plain": [
       "'ra'"
      ]
     },
     "execution_count": 6,
     "metadata": {},
     "output_type": "execute_result"
    }
   ],
   "source": [
    "keys = list(prior.sample())\n",
    "keys.pop(3)\n",
    "keys.pop(3)"
   ]
  },
  {
   "cell_type": "code",
   "execution_count": null,
   "id": "d6f9e3fa-c24b-4769-82b4-69855fc7078d",
   "metadata": {
    "scrolled": true
   },
   "outputs": [
    {
     "name": "stdout",
     "output_type": "stream",
     "text": [
      "0% finished\n"
     ]
    }
   ],
   "source": [
    "injDict = {}\n",
    "for k in keys:\n",
    "    injDict[k] = []\n",
    "\n",
    "cnt = 0\n",
    "for ids,row in hostDF.iterrows():\n",
    "    thisSample = prior.sample()\n",
    "    for k in keys:\n",
    "        if k!=\"luminosity_distance\":\n",
    "            injDict[k].append(thisSample[k])\n",
    "    injDict[\"luminosity_distance\"].append(float(str(skysimCat.cosmology.luminosity_distance(row[\"redshiftHubble\"])).split(\" \")[0]))\n",
    "    if cnt % 100000 == 0:\n",
    "        print(\"{}% finished\".format(cnt//100000))\n",
    "    cnt+=1"
   ]
  },
  {
   "cell_type": "code",
   "execution_count": null,
   "id": "9a5df54f-4ec0-4022-b5c4-ea7209481f74",
   "metadata": {},
   "outputs": [],
   "source": [
    "# for v in injDict.values():\n",
    "#     print(np.shape(v))"
   ]
  },
  {
   "cell_type": "code",
   "execution_count": null,
   "id": "03d52ae3-b1b5-40a8-bdc5-84e9361af5f3",
   "metadata": {},
   "outputs": [],
   "source": [
    "for k in injDict.keys():\n",
    "    hostDF[k] = injDict[k]"
   ]
  },
  {
   "cell_type": "code",
   "execution_count": null,
   "id": "2b887221-c60b-4b50-92cc-5cd0a9a475e3",
   "metadata": {},
   "outputs": [],
   "source": [
    "float(str(skysimCat.cosmology.luminosity_distance(row[\"redshiftHubble\"])).split(\" \")[0])"
   ]
  },
  {
   "cell_type": "code",
   "execution_count": null,
   "id": "93620b69-2217-45a1-bf70-fbe3b3b124c3",
   "metadata": {},
   "outputs": [],
   "source": []
  },
  {
   "cell_type": "markdown",
   "id": "80958379-3476-4367-9826-f4e056006504",
   "metadata": {},
   "source": [
    "## Save this"
   ]
  },
  {
   "cell_type": "code",
   "execution_count": null,
   "id": "3a915a3f-0bd0-4090-a7c2-f2bdffa7d214",
   "metadata": {},
   "outputs": [],
   "source": [
    "saveColumns = hostDF.columns.values[1:] # This is because of the extra column - check this always!!!"
   ]
  },
  {
   "cell_type": "code",
   "execution_count": null,
   "id": "de4e410e-f3c8-43a8-8c7b-c64e55493b39",
   "metadata": {},
   "outputs": [],
   "source": [
    "dataDir = \"/global/homes/s/seanmacb/DESC/DESC-GW/gwStreetlights/data\"\n",
    "hostDF.to_csv(os.path.join(dataDir,\"mergers-w=Lum,n=1e7,FromSkySim50_withBilby.csv\"),columns=saveColumns,index=False)"
   ]
  },
  {
   "cell_type": "markdown",
   "id": "b9614a18-e98d-45be-873f-26c481618bed",
   "metadata": {},
   "source": [
    "## OOPS! Add a column to denote if the CBC has been sampled before"
   ]
  },
  {
   "cell_type": "code",
   "execution_count": null,
   "id": "472addca-e64c-4161-b44b-f498d91b3822",
   "metadata": {},
   "outputs": [],
   "source": [
    "hostDF = pd.read_csv(os.path.join(dataDir,\"mergers-w=Lum,n=1e7,FromSkySim50_withBilby.csv\"))"
   ]
  },
  {
   "cell_type": "code",
   "execution_count": null,
   "id": "fed2cb38-d8b0-4802-b196-6a93707266b0",
   "metadata": {},
   "outputs": [],
   "source": [
    "hostDF[\"sampled\"] = False"
   ]
  },
  {
   "cell_type": "code",
   "execution_count": null,
   "id": "9491b37d-267a-41ef-92e8-e2ac7accae1e",
   "metadata": {},
   "outputs": [],
   "source": [
    "hostDF.to_csv(os.path.join(dataDir,\"mergers-w=Lum,n=1e7,FromSkySim50_withBilby.csv\"),columns=saveColumns,index=False)"
   ]
  },
  {
   "cell_type": "code",
   "execution_count": null,
   "id": "29225ae8-eab2-44e6-919f-c80cced5c9a8",
   "metadata": {},
   "outputs": [],
   "source": []
  }
 ],
 "metadata": {
  "kernelspec": {
   "display_name": "desc-python",
   "language": "python",
   "name": "desc-python"
  },
  "language_info": {
   "codemirror_mode": {
    "name": "ipython",
    "version": 3
   },
   "file_extension": ".py",
   "mimetype": "text/x-python",
   "name": "python",
   "nbconvert_exporter": "python",
   "pygments_lexer": "ipython3",
   "version": "3.12.11"
  }
 },
 "nbformat": 4,
 "nbformat_minor": 5
}
