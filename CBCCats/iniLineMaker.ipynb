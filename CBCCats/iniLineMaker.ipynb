{
 "cells": [
  {
   "cell_type": "markdown",
   "id": "ab723c4a-8f11-4a0c-b888-e388ff2764e4",
   "metadata": {},
   "source": [
    "# Add the necessary lines to the ini's"
   ]
  },
  {
   "cell_type": "code",
   "execution_count": 1,
   "id": "6337c8cf-eb42-42a4-836d-afb232480f87",
   "metadata": {},
   "outputs": [],
   "source": [
    "import pandas as pd\n",
    "import os\n",
    "import numpy as np\n",
    "import matplotlib.pyplot as plt\n",
    "import matplotlib as mpl\n",
    "import healpy as hp\n",
    "import bilby as bb\n",
    "import sys\n",
    "sys.path.append(\"/global/homes/s/seanmacb/DESC/DESC-GW/gwStreetlights/utils\")\n",
    "import utils as ut\n",
    "\n",
    "mpl.rcParams.update({\n",
    "    \"text.usetex\": True,\n",
    "    \"font.family\": \"serif\",  # or \"sans-serif\" or \"monospace\"\n",
    "    \"font.serif\": [\"Computer Modern Roman\"],\n",
    "    \"axes.labelsize\": 12,\n",
    "    \"font.size\": 12,\n",
    "    \"legend.fontsize\": 10,\n",
    "    \"xtick.labelsize\": 10,\n",
    "    \"ytick.labelsize\": 10\n",
    "})\n",
    "\n",
    "plt.style.use(\"seaborn-v0_8-paper\")"
   ]
  },
  {
   "cell_type": "code",
   "execution_count": 2,
   "id": "ef938ae9-49d5-4d66-850d-64bac21684cf",
   "metadata": {},
   "outputs": [],
   "source": [
    "batchPaths = [\"BBH_aligned_Batch0.csv\",\"BBH_precessing_Batch0.csv\"]\n",
    "alignmentArr = [1,0]\n",
    "\n",
    "# NSBHFilePath = \"/global/homes/s/seanmacb/DESC/DESC-GW/gwStreetlights/data/mockCBCCatalogs/n=1e7,NSBHs,FromSkySim50_withBilbySNRs.csv\"\n",
    "BBH_aligned_FilePath = \"/global/homes/s/seanmacb/DESC/DESC-GW/gwStreetlights/data/mockCBCCatalog_csvs/BBHs_0,aligned,sampledPlusSNR.csv\"\n",
    "BBH_precessing_FilePath = \"/global/homes/s/seanmacb/DESC/DESC-GW/gwStreetlights/data/mockCBCCatalog_csvs/BBHs_0,precessing,sampledPlusSNR.csv\"\n",
    "catalogPath = \"catalogList\""
   ]
  },
  {
   "cell_type": "code",
   "execution_count": 76,
   "id": "d937af70-7e04-4b08-a79f-03b200e14dcb",
   "metadata": {},
   "outputs": [],
   "source": [
    "def makeLabel(batch,item,spin):\n",
    "    \"\"\"\n",
    "    Label should follow the following structure:\n",
    "    batch_item_spin\n",
    "    Where each keyword means the following\n",
    "    batch: the batch production of the CBC catalog, \n",
    "           where all the CBC items are children of\n",
    "    item: the individual CBC within a batch, usually \n",
    "          ranging from 0-300ish\n",
    "    spin: 0/1, indicating spins misaligned (0), or \n",
    "          spins aligned (1)\n",
    "    \"\"\"\n",
    "    return \"{}_{}_{}\".format(batch,spin,item)\n",
    "\n",
    "def makeOutDir(base,spec):\n",
    "    return os.path.join(base,spec)\n",
    "\n",
    "def makePriorFilePath(typ,spin):\n",
    "    if typ not in (\"BBH\",\"NSBH\"):\n",
    "        raise ValueError(\"{} is not one of supported types: ('BBH','NSBH')\".format(typ))\n",
    "        return -1\n",
    "    if spin not in (1,0):\n",
    "        raise ValueError(\"{} is not one of supported spins: (0,1)\".format(spin))\n",
    "        return -1\n",
    "\n",
    "    if typ==\"BBH\":\n",
    "        if spin==1: # BBH, spins aligned\n",
    "            return \"/pscratch/sd/s/seanmacb/gwCosmoDesc/lib/python3.10/site-packages/bilby/gw/prior_files/bbh_aligned_gwtc.prior\"\n",
    "        else: # BBH, spins misaligned\n",
    "            return \"/pscratch/sd/s/seanmacb/gwCosmoDesc/lib/python3.10/site-packages/bilby/gw/prior_files/bbh_precessing_gwtc.prior\"\n",
    "    else:\n",
    "        if spin==1: # NSBH, spins aligned\n",
    "            return \"/pscratch/sd/s/seanmacb/gwCosmoDesc/lib/python3.10/site-packages/bilby/gw/prior_files/nsbh_aligned_gwtc.prior\"\n",
    "        else: # NSBH, spins misaligned\n",
    "            return \"/pscratch/sd/s/seanmacb/gwCosmoDesc/lib/python3.10/site-packages/bilby/gw/prior_files/nsbh_precessing_gwtc.prior\"\n",
    "\n",
    "def selectSpin():\n",
    "    return np.random.randint(0,2)\n",
    "    \n",
    "def makeInjection_dict(injKeys,row):\n",
    "    myDict = {}\n",
    "    for k in injKeys:\n",
    "        # if k in (\"chi_1\", \"chi_2\"): # handling the tilt/chi issues\n",
    "        #     myDict[k] = row[\"tilt_{}\".format(k[-1])]\n",
    "        if k in [\"ra\"]:\n",
    "            myDict[k] = np.deg2rad(row[\"m\"+k]) # SkySim is over -180 to 180 deg, while Bilby defaults to 0 to 2pi\n",
    "        elif k in [\"dec\"]:\n",
    "            myDict[k] = np.deg2rad(row[\"m\"+k]) # Skysim is from -90 to 90 deg, while bilby is -pi/2 to pi/2\n",
    "        else:\n",
    "            myDict[k] = row[k]\n",
    "    myDict[\"geocent_time\"] = ut.fakeGeoCentTime()\n",
    "    for ent in myDict.keys():\n",
    "        myDict[ent] = float(myDict[ent])\n",
    "    return myDict\n",
    "\n",
    "def getInjection_keys(typ,spin,ppath):\n",
    "    if typ not in (\"BBH\",\"NSBH\"):\n",
    "        raise ValueError(\"{} is not one of supported types: ('BBH','NSBH')\".format(typ))\n",
    "        return -1\n",
    "    if spin not in (1,0):\n",
    "        raise ValueError(\"{} is not one of supported spins: (0,1)\".format(spin))\n",
    "        return -1\n",
    "    return bb.gw.prior.CBCPriorDict(ppath).sample().keys()"
   ]
  },
  {
   "cell_type": "markdown",
   "id": "20879f31-0075-4189-9cd7-7168d0331225",
   "metadata": {},
   "source": [
    "## Order\n",
    "- makeLabel\n",
    "- outDirectory\n",
    "- prior file path\n",
    "- injection dictionary"
   ]
  },
  {
   "cell_type": "code",
   "execution_count": 77,
   "id": "42fa4c7f-0777-4932-9d97-1562e096d6f7",
   "metadata": {},
   "outputs": [],
   "source": [
    "CBCType=\"BBH\"\n",
    "batchNum=0"
   ]
  },
  {
   "cell_type": "code",
   "execution_count": 78,
   "id": "3a2c2aea-60a0-408d-a8a0-f64b4e13b4eb",
   "metadata": {
    "scrolled": true
   },
   "outputs": [],
   "source": [
    "toWrite = np.array([])\n",
    "labels_snrs_dict = {}\n",
    "\n",
    "for b,alignment in zip(batchPaths,alignmentArr):\n",
    "    batchDF = pd.read_csv(os.path.join(os.getcwd(),catalogPath,b))\n",
    "    basePath = \"/pscratch/sd/s/seanmacb/proj411ProdRuns/catalogs/batch_\"+str(batchNum)\n",
    "    os.makedirs(basePath,exist_ok=True)\n",
    "\n",
    "    for item,row in batchDF.iterrows():\n",
    "        fullItem = \"{}_{}\".format(item,CBCType)\n",
    "        spin=alignment # Choose spins to be aligned (1) or misaligned (0)\n",
    "        label = makeLabel(batchNum,fullItem,spin)\n",
    "        outDir = makeOutDir(basePath,label)\n",
    "        priorPath = makePriorFilePath(CBCType,spin)\n",
    "        injKeys = getInjection_keys(CBCType,spin,priorPath)\n",
    "        injDict = makeInjection_dict(injKeys,row)\n",
    "\n",
    "        labels_snrs_dict[label] = row[\"Network SNR\"]\n",
    "\n",
    "        toWrite = np.append(toWrite,[label,outDir,priorPath,injDict])\n",
    "\n",
    "# Reshape the final array\n",
    "toWrite = np.reshape(toWrite,(-1,4))"
   ]
  },
  {
   "cell_type": "code",
   "execution_count": 79,
   "id": "3796fce5-779e-4872-acb9-8062b622d329",
   "metadata": {},
   "outputs": [],
   "source": [
    "fieldKeys = [\"label\",\"outdir\",\"prior-file\", \"injection-dict\"]\n",
    "batch0_basepath = \"/pscratch/sd/s/seanmacb/proj411ProdRuns/catalogs/batch_{}/iniFiles\".format(batchNum)\n",
    "if not os.path.isdir(batch0_basepath):\n",
    "    os.mkdir(batch0_basepath)"
   ]
  },
  {
   "cell_type": "code",
   "execution_count": 80,
   "id": "28d728bc-e34b-4739-8293-e892c8842e19",
   "metadata": {},
   "outputs": [],
   "source": [
    "for writeables in toWrite:\n",
    "    with open(\"BBH_base.ini\", \"r\") as f:\n",
    "        read = f.readlines()\n",
    "\n",
    "    writeFile = os.path.join(batch0_basepath,writeables[0])+\".ini\"\n",
    "    \n",
    "    for field,value in zip(fieldKeys,writeables):\n",
    "        read.append(\"\\n\")\n",
    "        read.append(\"{}={}\\n\".format(field,value))\n",
    "\n",
    "    with open(writeFile, \"w\") as f:\n",
    "        f.writelines(read)"
   ]
  },
  {
   "cell_type": "code",
   "execution_count": 81,
   "id": "55d8c56f-dd35-4250-807a-7a6fdcdc6866",
   "metadata": {},
   "outputs": [],
   "source": [
    "# labels_snrs_dict\n",
    "sortedDict = {k: v for k, v in sorted(labels_snrs_dict.items(), key=lambda item: item[1])}\n",
    "result = [k for k in list(sortedDict.keys())[9::10]]"
   ]
  },
  {
   "cell_type": "code",
   "execution_count": 82,
   "id": "8517b84c-f0b6-4970-87ba-65f34a1dfb68",
   "metadata": {},
   "outputs": [
    {
     "name": "stdout",
     "output_type": "stream",
     "text": [
      "0_1_31_BBH 9.244870737472295\n",
      "0_0_97_BBH 9.34503829457829\n",
      "0_0_119_BBH 9.503843447746815\n",
      "0_0_103_BBH 9.615898670861464\n",
      "0_0_25_BBH 9.81866615966412\n",
      "0_1_120_BBH 10.04282719687954\n",
      "0_1_124_BBH 10.291039090633635\n",
      "0_1_71_BBH 10.401757112645605\n",
      "0_0_85_BBH 10.650657972317967\n",
      "0_0_14_BBH 10.914989434943488\n",
      "0_0_109_BBH 11.11233280294648\n",
      "0_0_127_BBH 11.357499140622268\n",
      "0_0_53_BBH 11.538053066279618\n",
      "0_0_47_BBH 12.006943444290808\n",
      "0_1_17_BBH 12.300035589483484\n",
      "0_0_16_BBH 12.65319205066331\n",
      "0_1_21_BBH 13.06396743629984\n",
      "0_1_11_BBH 13.598488973740745\n",
      "0_0_20_BBH 13.992333424038447\n",
      "0_1_151_BBH 14.464497302787208\n",
      "0_1_143_BBH 14.8635793243409\n",
      "0_1_33_BBH 15.47656296268502\n",
      "0_0_120_BBH 16.352988973760645\n",
      "0_1_129_BBH 17.031176633434324\n",
      "0_0_77_BBH 18.08474994096146\n",
      "0_0_3_BBH 20.254961751977408\n",
      "0_1_74_BBH 22.19384753253317\n",
      "0_1_72_BBH 27.56834607299878\n",
      "0_1_43_BBH 35.97356109495084\n",
      "0_1_58_BBH 189.64833326772327\n"
     ]
    }
   ],
   "source": [
    "for r in result:\n",
    "    print(r,sortedDict[r])"
   ]
  },
  {
   "cell_type": "code",
   "execution_count": 83,
   "id": "733818b8-8343-4c3a-8a3b-59932376d70b",
   "metadata": {},
   "outputs": [
    {
     "name": "stdout",
     "output_type": "stream",
     "text": [
      "0_1_31_BBH\n",
      "0_0_97_BBH\n",
      "0_0_119_BBH\n",
      "0_0_103_BBH\n",
      "0_0_25_BBH\n",
      "0_1_120_BBH\n",
      "0_1_124_BBH\n",
      "0_1_71_BBH\n",
      "0_0_85_BBH\n",
      "0_0_14_BBH\n",
      "0_0_109_BBH\n",
      "0_0_127_BBH\n",
      "0_0_53_BBH\n",
      "0_0_47_BBH\n",
      "0_1_17_BBH\n",
      "0_0_16_BBH\n",
      "0_1_21_BBH\n",
      "0_1_11_BBH\n",
      "0_0_20_BBH\n",
      "0_1_151_BBH\n",
      "0_1_143_BBH\n",
      "0_1_33_BBH\n",
      "0_0_120_BBH\n",
      "0_1_129_BBH\n",
      "0_0_77_BBH\n",
      "0_0_3_BBH\n",
      "0_1_74_BBH\n",
      "0_1_72_BBH\n",
      "0_1_43_BBH\n",
      "0_1_58_BBH\n"
     ]
    },
    {
     "data": {
      "text/plain": [
       "[None,\n",
       " None,\n",
       " None,\n",
       " None,\n",
       " None,\n",
       " None,\n",
       " None,\n",
       " None,\n",
       " None,\n",
       " None,\n",
       " None,\n",
       " None,\n",
       " None,\n",
       " None,\n",
       " None,\n",
       " None,\n",
       " None,\n",
       " None,\n",
       " None,\n",
       " None,\n",
       " None,\n",
       " None,\n",
       " None,\n",
       " None,\n",
       " None,\n",
       " None,\n",
       " None,\n",
       " None,\n",
       " None,\n",
       " None]"
      ]
     },
     "execution_count": 83,
     "metadata": {},
     "output_type": "execute_result"
    }
   ],
   "source": [
    "[print(r) for r in result]"
   ]
  }
 ],
 "metadata": {
  "kernelspec": {
   "display_name": "desc-python-bleed",
   "language": "python",
   "name": "desc-python-bleed"
  },
  "language_info": {
   "codemirror_mode": {
    "name": "ipython",
    "version": 3
   },
   "file_extension": ".py",
   "mimetype": "text/x-python",
   "name": "python",
   "nbconvert_exporter": "python",
   "pygments_lexer": "ipython3",
   "version": "3.12.11"
  }
 },
 "nbformat": 4,
 "nbformat_minor": 5
}
