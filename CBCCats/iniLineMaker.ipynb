{
 "cells": [
  {
   "cell_type": "markdown",
   "id": "ab723c4a-8f11-4a0c-b888-e388ff2764e4",
   "metadata": {},
   "source": [
    "# Add the necessary lines to the ini's"
   ]
  },
  {
   "cell_type": "code",
   "execution_count": 1,
   "id": "6337c8cf-eb42-42a4-836d-afb232480f87",
   "metadata": {},
   "outputs": [],
   "source": [
    "import pandas as pd\n",
    "import os\n",
    "import numpy as np\n",
    "import matplotlib.pyplot as plt\n",
    "import matplotlib as mpl\n",
    "import healpy as hp\n",
    "import ligo.skymap.plot as ligoPlot\n",
    "import bilby as bb\n",
    "\n",
    "mpl.rcParams.update({\n",
    "    \"text.usetex\": True,\n",
    "    \"font.family\": \"serif\",  # or \"sans-serif\" or \"monospace\"\n",
    "    \"font.serif\": [\"Computer Modern Roman\"],\n",
    "    \"axes.labelsize\": 12,\n",
    "    \"font.size\": 12,\n",
    "    \"legend.fontsize\": 10,\n",
    "    \"xtick.labelsize\": 10,\n",
    "    \"ytick.labelsize\": 10\n",
    "})\n",
    "\n",
    "plt.style.use(\"seaborn-v0_8-paper\")"
   ]
  },
  {
   "cell_type": "code",
   "execution_count": 2,
   "id": "ef938ae9-49d5-4d66-850d-64bac21684cf",
   "metadata": {},
   "outputs": [],
   "source": [
    "batchPath = [\"BBH_Batch0.csv\"]\n",
    "\n",
    "NSBHFilePath = \"/global/homes/s/seanmacb/DESC/DESC-GW/gwStreetlights/data/mockCBCCatalogs/n=1e7,NSBHs,FromSkySim50_withBilbySNRs.csv\"\n",
    "BBHFilePath = \"/global/homes/s/seanmacb/DESC/DESC-GW/gwStreetlights/data/mockCBCCatalogs/n=1e7,BBHs,FromSkySim50_withBilbySNRs.csv\"\n",
    "catalogPath = \"catalogList\""
   ]
  },
  {
   "cell_type": "code",
   "execution_count": 3,
   "id": "d937af70-7e04-4b08-a79f-03b200e14dcb",
   "metadata": {},
   "outputs": [],
   "source": [
    "def makeLabel(batch,item,spin):\n",
    "    \"\"\"\n",
    "    Label should follow the following structure:\n",
    "    batch_item_spin\n",
    "    Where each keyword means the following\n",
    "    batch: the batch production of the CBC catalog, \n",
    "           where all the CBC items are children of\n",
    "    item: the individual CBC within a batch, usually \n",
    "          ranging from 0-300ish\n",
    "    spin: 0/1, indicating spins misaligned (0), or \n",
    "          spins aligned (1)\n",
    "    \"\"\"\n",
    "    return \"{}_{}_{}\".format(batch,item,spin)\n",
    "\n",
    "def makeOutDir(base,spec):\n",
    "    return os.path.join(base,spec)\n",
    "\n",
    "def makePriorFilePath(typ,spin):\n",
    "    if typ not in (\"BBH\",\"NSBH\"):\n",
    "        raise ValueError(\"{} is not one of supported types: ('BBH','NSBH')\".format(typ))\n",
    "        return -1\n",
    "    if spin not in (1,0):\n",
    "        raise ValueError(\"{} is not one of supported spins: (0,1)\".format(spin))\n",
    "        return -1\n",
    "\n",
    "    if typ==\"BBH\":\n",
    "        if spin==1: # BBH, spins aligned\n",
    "            return \"/pscratch/sd/s/seanmacb/gwCosmoDesc/lib/python3.10/site-packages/bilby/gw/prior_files/aligned_spins_bbh_gwtc3.prior\"\n",
    "        else: # BBH, spins misaligned\n",
    "            return \"/pscratch/sd/s/seanmacb/gwCosmoDesc/lib/python3.10/site-packages/bilby/gw/prior_files/precessing_spins_bbh_gwtc3.prior\"\n",
    "    else:\n",
    "        if spin==1: # NSBH, spins aligned\n",
    "            return \"/pscratch/sd/s/seanmacb/gwCosmoDesc/lib/python3.10/site-packages/bilby/gw/prior_files/aligned_spins_nsbh_gwtc3.prior\"\n",
    "        else: # NSBH, spins misaligned\n",
    "            return \"/pscratch/sd/s/seanmacb/gwCosmoDesc/lib/python3.10/site-packages/bilby/gw/prior_files/precessing_spins_nsbh_gwtc3.prior\"\n",
    "\n",
    "def selectSpin():\n",
    "    return np.random.randint(0,2)\n",
    "    \n",
    "def makeInjection_dict(injKeys,row):\n",
    "    myDict = {}\n",
    "    for k in injKeys:\n",
    "        if k in (\"chi_1\", \"chi_2\"): # handling the tilt/chi issues\n",
    "            myDict[k] = row[\"tilt_{}\".format(k[-1])]\n",
    "        elif k in (\"ra\",\"dec\"):\n",
    "            myDict[k] = row[\"m\"+k]\n",
    "        else:\n",
    "            myDict[k] = row[k]\n",
    "    return myDict\n",
    "\n",
    "def getInjection_keys(typ,spin,ppath):\n",
    "    if typ not in (\"BBH\",\"NSBH\"):\n",
    "        raise ValueError(\"{} is not one of supported types: ('BBH','NSBH')\".format(typ))\n",
    "        return -1\n",
    "    if spin not in (1,0):\n",
    "        raise ValueError(\"{} is not one of supported spins: (0,1)\".format(spin))\n",
    "        return -1\n",
    "    return bb.gw.prior.CBCPriorDict(ppath).sample().keys()"
   ]
  },
  {
   "cell_type": "markdown",
   "id": "20879f31-0075-4189-9cd7-7168d0331225",
   "metadata": {},
   "source": [
    "## Order\n",
    "- makeLabel\n",
    "- outDirectory\n",
    "- prior file path\n",
    "- injection dictionary"
   ]
  },
  {
   "cell_type": "code",
   "execution_count": 4,
   "id": "42fa4c7f-0777-4932-9d97-1562e096d6f7",
   "metadata": {},
   "outputs": [],
   "source": [
    "CBCType=\"BBH\"\n",
    "batch=0"
   ]
  },
  {
   "cell_type": "code",
   "execution_count": 6,
   "id": "3a2c2aea-60a0-408d-a8a0-f64b4e13b4eb",
   "metadata": {
    "scrolled": true
   },
   "outputs": [],
   "source": [
    "toWrite = np.array([])\n",
    "\n",
    "for b,batch in zip(batchPath,range(len(batchPath))):\n",
    "    batchDF = pd.read_csv(os.path.join(os.getcwd(),catalogPath,b))\n",
    "    basePath = \"/pscratch/sd/s/seanmacb/proj411ProdRuns/catalogs/batch_\"+str(batch)\n",
    "    os.makedirs(basePath,exist_ok=True)\n",
    "\n",
    "    for item,row in batchDF.iterrows():\n",
    "        fullItem = \"{}_{}\".format(item,CBCType)\n",
    "        spin=selectSpin() # Randomly choose spins to be aligned (1) or misaligned (0)\n",
    "        label = makeLabel(batch,fullItem,spin)\n",
    "        outDir = makeOutDir(basePath,label)\n",
    "        priorPath = makePriorFilePath(CBCType,spin)\n",
    "        injKeys = getInjection_keys(CBCType,spin,priorPath)\n",
    "        injDict = makeInjection_dict(injKeys,row)\n",
    "\n",
    "        toWrite = np.append(toWrite,[label,outDir,priorPath,injDict])\n",
    "\n",
    "# Reshape the final array\n",
    "toWrite = np.reshape(toWrite,(-1,4))"
   ]
  },
  {
   "cell_type": "code",
   "execution_count": 7,
   "id": "3796fce5-779e-4872-acb9-8062b622d329",
   "metadata": {},
   "outputs": [],
   "source": [
    "fieldKeys = [\"label\",\"outdir\",\"prior-file\", \"injection-dict\"]\n",
    "batch0_basepath = \"/pscratch/sd/s/seanmacb/proj411ProdRuns/catalogs/batch_0/iniFiles\""
   ]
  },
  {
   "cell_type": "code",
   "execution_count": 8,
   "id": "28d728bc-e34b-4739-8293-e892c8842e19",
   "metadata": {},
   "outputs": [],
   "source": [
    "for writeables in toWrite:\n",
    "    with open(\"BBH_base.ini\", \"r\") as f:\n",
    "        read = f.readlines()\n",
    "\n",
    "    writeFile = os.path.join(batch0_basepath,writeables[0])+\".ini\"\n",
    "    \n",
    "    for field,value in zip(fieldKeys,writeables):\n",
    "        read.append(\"\\n\")\n",
    "        read.append(\"{}={}\\n\".format(field,value))\n",
    "\n",
    "    with open(writeFile, \"w\") as f:\n",
    "        f.writelines(read)"
   ]
  },
  {
   "cell_type": "code",
   "execution_count": null,
   "id": "feb75b38-edd9-4a38-bbda-ada6c0bca7bc",
   "metadata": {},
   "outputs": [],
   "source": []
  }
 ],
 "metadata": {
  "kernelspec": {
   "display_name": "desc-python",
   "language": "python",
   "name": "desc-python"
  },
  "language_info": {
   "codemirror_mode": {
    "name": "ipython",
    "version": 3
   },
   "file_extension": ".py",
   "mimetype": "text/x-python",
   "name": "python",
   "nbconvert_exporter": "python",
   "pygments_lexer": "ipython3",
   "version": "3.10.13"
  }
 },
 "nbformat": 4,
 "nbformat_minor": 5
}
